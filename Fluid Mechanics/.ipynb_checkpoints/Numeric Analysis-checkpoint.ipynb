{
 "cells": [
  {
   "cell_type": "code",
   "execution_count": 3,
   "id": "dd4cc016-6334-400d-a90d-6b2f579087c2",
   "metadata": {},
   "outputs": [],
   "source": [
    "import math\n",
    "import matplotlib.pyplot as plt\n",
    "import numpy as np"
   ]
  },
  {
   "cell_type": "markdown",
   "id": "b638d4e7-0592-477c-b4f9-f634edac788e",
   "metadata": {},
   "source": [
    "Consider the function\n",
    "\n",
    "$$g(x) = \\frac{e^x-1}{x}$$\n",
    "\n",
    "Note that its limit as $x$ goes to 0 is\n",
    "\n",
    "$$\\lim_{x\\rightarrow0}g(x) = 1$$\n",
    "\n",
    "Calculate $g(x)$ for $x = 10^{-1},\\dots,10^{-20}$ and explain the behaviour."
   ]
  },
  {
   "cell_type": "code",
   "execution_count": 15,
   "id": "54a77d52-1bf1-4f23-b86f-5c0ab8aeaf50",
   "metadata": {},
   "outputs": [
    {
     "name": "stdout",
     "output_type": "stream",
     "text": [
      "1.0517091807564771\n",
      "1.005016708416795\n",
      "1.0005001667083846\n",
      "1.000050001667141\n",
      "1.000005000006965\n",
      "1.0000004999621837\n",
      "1.0000000494336803\n",
      "0.999999993922529\n",
      "1.000000082740371\n",
      "1.000000082740371\n",
      "1.000000082740371\n",
      "1.000088900582341\n",
      "0.9992007221626409\n",
      "0.9992007221626409\n",
      "1.1102230246251565\n",
      "0.0\n",
      "0.0\n",
      "0.0\n",
      "0.0\n",
      "0.0\n"
     ]
    }
   ],
   "source": [
    "for i in range(1,21):\n",
    "    temp = pow(10,-i)\n",
    "    print((math.exp(temp) - 1) / temp)"
   ]
  },
  {
   "cell_type": "markdown",
   "id": "c7eea5a8-a276-43e0-87a8-4ad6655dfc5f",
   "metadata": {},
   "source": [
    "As $x\\rightarrow0$, $e^x\\rightarrow1$. When $x$ becomes small enough, $e^x-1$ becomes smaller than machine epsilon, so $e^x$ is evaluated to be 1. Then $g(x)=0$."
   ]
  },
  {
   "cell_type": "markdown",
   "id": "96d10f8b-9b93-4a0f-b1d1-07c423801ab3",
   "metadata": {},
   "source": [
    "Explain and show why $(x-2)^6$ and its polynomial expansion diverge for $x\\approx2$."
   ]
  },
  {
   "cell_type": "code",
   "execution_count": null,
   "id": "feba82a4-a290-4107-a6e9-d5933573422b",
   "metadata": {},
   "outputs": [],
   "source": [
    "x = np.linspace(1.99,2.01,10000)\n",
    "y1 = []\n",
    "y2 = []\n",
    "\n",
    "def accurate(x):\n",
    "    return (x-2)**6\n",
    "\n",
    "def inaccurate(x):\n",
    "    return x**6 - 12 * x**5 + 60 * x**4 - 160 * x**3 + 240 * x**2 - 192 * x + 64\n",
    "\n",
    "for i in range(10000):\n",
    "    y1.append(accurate(x[i]))\n",
    "    y2.append(inaccurate(x[i]))\n",
    "\n",
    "plt.style.use('_mpl-gallery')\n",
    "\n",
    "fig, ax = plt.subplots()\n",
    "ax.plot(x, y1, color=\"red\", linewidth=1)\n",
    "ax.plot(x, y2, color=\"blue\", linewidth=0.01)\n",
    "\n",
    "plt.show"
   ]
  },
  {
   "cell_type": "markdown",
   "id": "834252c8-f214-4f61-bc33-7b492055bee4",
   "metadata": {},
   "source": [
    "Let $\\epsilon$ be the error, and assume $\\epsilon^6$ is smaller than machine epsilon, or else the desired result becomes 0. For $x=2+\\epsilon$, using the factorised expression, $\\epsilon^6$ is evaluated, which is close to its actual value. Using the decomposition, note the first term $x^6$. It is likely for small $\\epsilon$ that in $$(2+\\epsilon)^6 = 2^6 + \\dots + \\epsilon^6$$\n",
    "the smallest term is smaller than machine epsilon, hence it is ignored. Thus this expression becomes less accurate."
   ]
  },
  {
   "cell_type": "code",
   "execution_count": null,
   "id": "b6bd2fcb-44d5-45e8-bbde-e8b55bef208e",
   "metadata": {},
   "outputs": [],
   "source": []
  }
 ],
 "metadata": {
  "kernelspec": {
   "display_name": "Python 3 (ipykernel)",
   "language": "python",
   "name": "python3"
  },
  "language_info": {
   "codemirror_mode": {
    "name": "ipython",
    "version": 3
   },
   "file_extension": ".py",
   "mimetype": "text/x-python",
   "name": "python",
   "nbconvert_exporter": "python",
   "pygments_lexer": "ipython3",
   "version": "3.11.3"
  }
 },
 "nbformat": 4,
 "nbformat_minor": 5
}
