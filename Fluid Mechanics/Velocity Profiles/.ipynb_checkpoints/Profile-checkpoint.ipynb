{
 "cells": [
  {
   "cell_type": "code",
   "execution_count": null,
   "id": "3408aeff-a8d6-4855-a19c-8cd1bc23302d",
   "metadata": {},
   "outputs": [],
   "source": [
    "## Import modules\n",
    "from IPython.display import display, Math\n",
    "import matplotlib.pyplot as plt\n",
    "import numpy as np"
   ]
  },
  {
   "cell_type": "markdown",
   "id": "a27d7b9d-f021-4dd6-9c98-f8c27f298a12",
   "metadata": {},
   "source": [
    "For a circular pipe with fully developed flow,\n",
    "\n",
    "$$u = \\frac{r^2-R^2}{4\\mu}\\left(\\frac{dp}{ds} + \\rho g\\frac{dz}{ds}\\right)$$\n",
    "\n",
    "The maximum and average flow are\n",
    "\n",
    "$$u_{\\text{max}} = u(r=0) = 2u_{\\text{avg}}$$\n",
    "\n",
    "You can set the constants below and play around."
   ]
  },
  {
   "cell_type": "code",
   "execution_count": null,
   "id": "db6d7ff1-c229-4bb4-a2d2-807908918b81",
   "metadata": {},
   "outputs": [],
   "source": [
    "radius = 1\n",
    "viscosity = 0.001\n",
    "pressure_gradient = -1000\n",
    "density = 1\n",
    "slope = 0\n",
    "\n",
    "k = (pressure_gradient + density * 9.81 * slope) / (4 * viscosity)\n",
    "u_max = radius ** 2 * k\n",
    "scientific = \"{:e}\".format(u_max)\n",
    "[num, exp] = scientific.split(\"e\")\n",
    "\n",
    "num = num[:4] if num[0] != '-' else num[:5]\n",
    "exp = exp[1:] if exp[0] != '-' else exp\n",
    "\n",
    "eq = r\"u = u_{\\text{max}} \\left[1 - \\left(\\frac{r}{R}\\right)^2\\right] = \" + num + r\"\\times 10^{\" + exp + r\"}\" + r\"\\left[1 - \\left(\\frac{r}{R}\\right)^2\\right]\"\n",
    "constant = r\"u_{\\text{max}} = \" + num + r\"\\times 10^{\" + exp + r\"}\"\n",
    "\n",
    "display(Math(constant))\n",
    "display(Math(eq))\n",
    "\n",
    "plt.style.use('_mpl-gallery')\n",
    "\n",
    "# make data\n",
    "y = np.linspace(-radius, radius, 100)\n",
    "x = k * (y ** 2 - radius ** 2)\n",
    "\n",
    "# plot\n",
    "fig, ax = plt.subplots()\n",
    "\n",
    "ax.plot(x, y, linewidth=1)\n",
    "\n",
    "#ax.set(ylim=(-radius, radius), yticks=np.arange(-radius, radius))\n",
    "\n",
    "plt.show()"
   ]
  }
 ],
 "metadata": {
  "kernelspec": {
   "display_name": "Python 3 (ipykernel)",
   "language": "python",
   "name": "python3"
  },
  "language_info": {
   "codemirror_mode": {
    "name": "ipython",
    "version": 3
   },
   "file_extension": ".py",
   "mimetype": "text/x-python",
   "name": "python",
   "nbconvert_exporter": "python",
   "pygments_lexer": "ipython3",
   "version": "3.11.3"
  }
 },
 "nbformat": 4,
 "nbformat_minor": 5
}
